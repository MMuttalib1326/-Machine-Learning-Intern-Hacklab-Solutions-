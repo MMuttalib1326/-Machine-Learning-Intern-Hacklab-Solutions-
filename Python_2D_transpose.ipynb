{
  "nbformat": 4,
  "nbformat_minor": 0,
  "metadata": {
    "colab": {
      "name": "Python 2D transpose.ipynb",
      "provenance": [],
      "collapsed_sections": [],
      "authorship_tag": "ABX9TyNVUiAFkHZ64uh9GT7R5IrW",
      "include_colab_link": true
    },
    "kernelspec": {
      "name": "python3",
      "display_name": "Python 3"
    }
  },
  "cells": [
    {
      "cell_type": "markdown",
      "metadata": {
        "id": "view-in-github",
        "colab_type": "text"
      },
      "source": [
        "<a href=\"https://colab.research.google.com/github/digs1998/Machine-Learning-internship-at-Hacklab-Solutions/blob/main/Python_2D_transpose.ipynb\" target=\"_parent\"><img src=\"https://colab.research.google.com/assets/colab-badge.svg\" alt=\"Open In Colab\"/></a>"
      ]
    },
    {
      "cell_type": "code",
      "metadata": {
        "colab": {
          "base_uri": "https://localhost:8080/"
        },
        "id": "wlr3ljhSIHxw",
        "outputId": "a942d014-3b31-42b5-c6e0-75a4f6d63762"
      },
      "source": [
        "X = [[12,7],\n",
        "    [4 ,5],\n",
        "    [3 ,8]]\n",
        "\n",
        "result = [[0,0,0],\n",
        "         [0,0,0]]\n",
        "\n",
        "# iterate through rows\n",
        "for i in range(len(X)):\n",
        "   # iterate through columns\n",
        "   for j in range(len(X[0])):\n",
        "       result[j][i] = X[i][j]\n",
        "\n",
        "for r in result:\n",
        "   print(r)"
      ],
      "execution_count": 1,
      "outputs": [
        {
          "output_type": "stream",
          "text": [
            "[12, 4, 3]\n",
            "[7, 5, 8]\n"
          ],
          "name": "stdout"
        }
      ]
    },
    {
      "cell_type": "code",
      "metadata": {
        "colab": {
          "base_uri": "https://localhost:8080/"
        },
        "id": "klGvnZCPInW4",
        "outputId": "b99bab72-7cd9-4e1a-e2c2-90ab23d8d73a"
      },
      "source": [
        "# using numpy\n",
        "\n",
        "import numpy as np\n",
        "matrix = [[1,5,7],[4,6,9]]\n",
        "print('Normal Matrix \\n', matrix)\n",
        "matrix_t = np.transpose(matrix)\n",
        "print('Transposed Matrix \\n', matrix_t)"
      ],
      "execution_count": 4,
      "outputs": [
        {
          "output_type": "stream",
          "text": [
            "Normal Matrix \n",
            " [[1, 5, 7], [4, 6, 9]]\n",
            "Transposed Matrix \n",
            " [[1 4]\n",
            " [5 6]\n",
            " [7 9]]\n"
          ],
          "name": "stdout"
        }
      ]
    },
    {
      "cell_type": "code",
      "metadata": {
        "id": "6Hzq6ByyJHBx"
      },
      "source": [
        ""
      ],
      "execution_count": null,
      "outputs": []
    }
  ]
}